{
 "cells": [
  {
   "cell_type": "markdown",
   "metadata": {},
   "source": [
    "#### Задание\n",
    "\n",
    "- (1 балл) Вывести все уникальные бренды, у которых стандартная стоимость выше 1500 долларов.\n",
    "- (1 балл) Вывести все подтвержденные транзакции за период '2017-04-01' по '2017-04-09' включительно.\n",
    "- (1 балл) Вывести все профессии у клиентов из сферы IT или Financial Services, которые начинаются с фразы 'Senior'.\n",
    "- (1 балл) Вывести все бренды, которые закупают клиенты, работающие в сфере Financial Services\n",
    "- (1 балл) Вывести 10 клиентов, которые оформили онлайн-заказ продукции из брендов 'Giant Bicycles', 'Norco Bicycles', 'Trek Bicycles'.\n",
    "- (1 балл) Вывести всех клиентов, у которых нет транзакций.\n",
    "- (2 балла) Вывести всех клиентов из IT, у которых транзакции с максимальной стандартной стоимостью.\n",
    "- (2 балла) Вывести всех клиентов из сферы IT и Health, у которых есть подтвержденные транзакции за период '2017-07-07' по '2017-07-17'.\n",
    "\n",
    "Описание таблицы customer: (Поле Описание)\n",
    "- customer_id\tid клиента\n",
    "- first_name \tимя клиента\n",
    "- last_name \tфамилия клиента\n",
    "- gender \tпол\n",
    "- DOB \tдата рождения\n",
    "- job_title \tпрофессия\n",
    "- job_industry_category\tсфера деятельности\n",
    "- wealth_segment \tсегмент благосостояния\n",
    "- deceased_indicator \tфлаг актуального клиента\n",
    "- owns_car \tфлаг наличия автомобиля\n",
    "- address \tадрес проживания\n",
    "- postcode \tпочтовый индекс\n",
    "- state \tштаты\n",
    "- country \tстрана проживания\n",
    "- property_valuation\tоценка имущества\n",
    "\n",
    "Описание таблицы transaction: (Поле Описание)\n",
    "- transaction_id\tid транзакции\n",
    "- product_id\tid продукта\n",
    "- customer_id\tid клиента\n",
    "- transaction_date\tдата транзакции\n",
    "- online_order\tфлаг онлайн-заказа\n",
    "- order_status\tстатус транзакции\n",
    "- brand\tбренд\n",
    "- product_line\tлинейка продуктов\n",
    "- product_class\tкласс продукта\n",
    "- product_size\tразмер продукта\n",
    "- list_price\tцена\n",
    "- standard_cost\tстандартная стоимость"
   ]
  },
  {
   "cell_type": "code",
   "execution_count": null,
   "metadata": {
    "vscode": {
     "languageId": "sql"
    }
   },
   "outputs": [],
   "source": [
    "-- Вывести все уникальные бренды, у которых стандартная стоимость выше 1500 долларов.\n",
    "\n",
    "SELECT DISTINCT brand\n",
    "FROM \"transaction\"\n",
    "WHERE standard_cost > 1500;"
   ]
  },
  {
   "cell_type": "markdown",
   "metadata": {},
   "source": [
    "![](1.png)"
   ]
  },
  {
   "cell_type": "code",
   "execution_count": null,
   "metadata": {
    "vscode": {
     "languageId": "sql"
    }
   },
   "outputs": [],
   "source": [
    "-- Вывести все подтвержденные транзакции за период '2017-04-01' по '2017-04-09' включительно.\n",
    "\n",
    "SELECT *\n",
    "FROM \"transaction\"\n",
    "WHERE order_status = 'Approved' AND (to_date(transaction_date, 'dd-MM-yyyy') BETWEEN '2017-04-01' AND '2017-04-09');"
   ]
  },
  {
   "cell_type": "markdown",
   "metadata": {},
   "source": [
    "![](2.png)"
   ]
  },
  {
   "cell_type": "code",
   "execution_count": null,
   "metadata": {
    "vscode": {
     "languageId": "sql"
    }
   },
   "outputs": [],
   "source": [
    "-- Вывести все профессии у клиентов из сферы IT или Financial Services, которые начинаются с фразы 'Senior'.\n",
    "\n",
    "SELECT DISTINCT job_title\n",
    "FROM customer\n",
    "WHERE job_industry_category IN ('IT', 'Financial Services') AND job_title LIKE 'Senior%';"
   ]
  },
  {
   "cell_type": "markdown",
   "metadata": {},
   "source": [
    "![](3.png)"
   ]
  },
  {
   "cell_type": "code",
   "execution_count": null,
   "metadata": {
    "vscode": {
     "languageId": "sql"
    }
   },
   "outputs": [],
   "source": [
    "-- Вывести все бренды, которые закупают клиенты, работающие в сфере Financial Services\n",
    "\n",
    "SELECT DISTINCT brand\n",
    "FROM \"transaction\"\n",
    "WHERE customer_id IN (SELECT customer_id FROM customer WHERE job_industry_category = 'Financial Services');"
   ]
  },
  {
   "cell_type": "markdown",
   "metadata": {},
   "source": [
    "![](4.png)"
   ]
  },
  {
   "cell_type": "code",
   "execution_count": null,
   "metadata": {
    "vscode": {
     "languageId": "sql"
    }
   },
   "outputs": [],
   "source": [
    "-- Вывести 10 клиентов, которые оформили онлайн-заказ продукции из брендов 'Giant Bicycles', 'Norco Bicycles', 'Trek Bicycles'\n",
    "\n",
    "SELECT DISTINCT c.first_name, c.last_name \n",
    "FROM \"transaction\" t JOIN customer c ON t.customer_id = c.customer_id \n",
    "WHERE t.online_order AND t.brand IN ('Giant Bicycles', 'Norco Bicycles', 'Trek Bicycles')\n",
    "LIMIT 10;"
   ]
  },
  {
   "cell_type": "markdown",
   "metadata": {},
   "source": [
    "![](5.png)"
   ]
  },
  {
   "cell_type": "code",
   "execution_count": null,
   "metadata": {
    "vscode": {
     "languageId": "sql"
    }
   },
   "outputs": [],
   "source": [
    "-- Вывести всех клиентов, у которых нет транзакций.\n",
    "\n",
    "SELECT c.*\n",
    "FROM customer c LEFT JOIN \"transaction\" t ON c.customer_id = t.customer_id \n",
    "WHERE t.customer_id IS NULL;"
   ]
  },
  {
   "cell_type": "markdown",
   "metadata": {},
   "source": [
    "![](6.png)"
   ]
  },
  {
   "cell_type": "code",
   "execution_count": null,
   "metadata": {
    "vscode": {
     "languageId": "sql"
    }
   },
   "outputs": [],
   "source": [
    "-- Вывести всех клиентов из IT, у которых транзакции с максимальной стандартной стоимостью.\n",
    "\n",
    "SELECT c.*, t.*\n",
    "FROM customer c JOIN \"transaction\" t ON c.customer_id = t.customer_id \n",
    "WHERE c.job_industry_category = 'IT' AND t.standard_cost = (SELECT MAX(standard_cost) FROM \"transaction\");"
   ]
  },
  {
   "cell_type": "markdown",
   "metadata": {},
   "source": [
    "![](7.png)"
   ]
  },
  {
   "cell_type": "code",
   "execution_count": null,
   "metadata": {
    "vscode": {
     "languageId": "sql"
    }
   },
   "outputs": [],
   "source": [
    "-- Вывести всех клиентов из сферы IT и Health, у которых есть подтвержденные транзакции за период '2017-07-07' по '2017-07-17'.\n",
    "\n",
    "SELECT DISTINCT c.*\n",
    "FROM customer c JOIN \"transaction\" t ON c.customer_id = t.customer_id  \n",
    "WHERE c.job_industry_category IN ('IT', 'Health') AND t.order_status = 'Approved' AND (to_date(t.transaction_date, 'dd.MM.yyyy') BETWEEN '2017-07-07' AND '2017-07-17');"
   ]
  },
  {
   "cell_type": "markdown",
   "metadata": {},
   "source": [
    "![](8.png)"
   ]
  }
 ],
 "metadata": {
  "language_info": {
   "name": "python"
  }
 },
 "nbformat": 4,
 "nbformat_minor": 2
}
